{
 "cells": [
  {
   "cell_type": "code",
   "execution_count": 1,
   "metadata": {},
   "outputs": [],
   "source": [
    "import pandas as pd\n",
    "import duckdb"
   ]
  },
  {
   "cell_type": "code",
   "execution_count": null,
   "metadata": {},
   "outputs": [],
   "source": [
    "# Connect duckdb database instance. It create new file if file is not existed\n",
    "#conn = duckdb.connect('data/parking_violations.db')\n",
    "conn = duckdb.connect('data/prod_nyc_parking_violations.db')"
   ]
  },
  {
   "cell_type": "code",
   "execution_count": 3,
   "metadata": {},
   "outputs": [],
   "source": [
    "# Query strings used to insert csv data into duckdb database\n",
    "violation_code_import = \"\"\"\n",
    "\n",
    "CREATE OR REPLACE TABLE parking_violation_codes AS\n",
    "SELECT * FROM\n",
    "    read_csv_auto('data/parking_violations_codes.csv',\n",
    "    normalize_names = True)\n",
    "\n",
    "\"\"\"\n",
    "\n",
    "##############################\n",
    "parking_violations_import = \"\"\"\n",
    "\n",
    "CREATE OR REPLACE TABLE parking_violations_2023 AS\n",
    "SELECT * FROM\n",
    "    read_csv_auto('data/parking_violations_issued_2013.csv',\n",
    "    normalize_names = True)\n",
    "\n",
    "\"\"\"\n",
    "queries = [violation_code_import, parking_violations_import]"
   ]
  },
  {
   "cell_type": "code",
   "execution_count": 4,
   "metadata": {},
   "outputs": [
    {
     "name": "stdout",
     "output_type": "stream",
     "text": [
      "Done\n"
     ]
    }
   ],
   "source": [
    "# Iterate queries to run\n",
    "for query in queries:\n",
    "    conn.execute(query)\n",
    "print(\"Done\")"
   ]
  },
  {
   "cell_type": "code",
   "execution_count": 5,
   "metadata": {},
   "outputs": [
    {
     "data": {
      "text/plain": [
       "┌─────────────────────────┐\n",
       "│          name           │\n",
       "│         varchar         │\n",
       "├─────────────────────────┤\n",
       "│ parking_violation_codes │\n",
       "│ parking_violations_2023 │\n",
       "└─────────────────────────┘"
      ]
     },
     "execution_count": 5,
     "metadata": {},
     "output_type": "execute_result"
    }
   ],
   "source": [
    "#Check tables whether it created in database\n",
    "conn.sql(\"show tables\")"
   ]
  },
  {
   "cell_type": "code",
   "execution_count": 6,
   "metadata": {},
   "outputs": [
    {
     "data": {
      "text/plain": [
       "┌────────────────┬────────────────────┬────────────┬────────────┬────────────────┬───────────────────┬──────────────┬────────────────┬─────────────────────────┬────────────────────┬────────────────────┬─────────────────┬─────────────┬────────────────┬──────────────┬────────────────┬─────────────────────┬──────────────────┬───────────────────────────────────┬─────────────────────┬─────────────┬──────────────┬──────────────────────┬────────────────────────┬──────────────────────┬────────────────────┬───────────────┬──────────────────────┬──────────────┬──────────────┬────────────────┬───────────────────────────────────┬───────────────────┬──────────────────────────┐\n",
       "│ summons_number │ registration_state │ plate_type │ issue_date │ violation_code │ vehicle_body_type │ vehicle_make │ issuing_agency │ vehicle_expiration_date │ violation_location │ violation_precinct │ issuer_precinct │ issuer_code │ issuer_command │ issuer_squad │ violation_time │ time_first_observed │ violation_county │ violation_in_front_of_or_opposite │ date_first_observed │ law_section │ sub_division │ violation_legal_code │ days_parking_in_effect │ from_hours_in_effect │ to_hours_in_effect │ vehicle_color │ unregistered_vehicle │ vehicle_year │ meter_number │ feet_from_curb │ no_standing_or_stopping_violation │ hydrant_violation │ double_parking_violation │\n",
       "│     int64      │      varchar       │  varchar   │    date    │     int64      │      varchar      │   varchar    │    varchar     │          int64          │       int64        │       int64        │      int64      │    int64    │    varchar     │   varchar    │    varchar     │       varchar       │     varchar      │              varchar              │        int64        │    int64    │   varchar    │       boolean        │        varchar         │       varchar        │      varchar       │    varchar    │        int64         │    int64     │   varchar    │     int64      │              varchar              │      varchar      │         varchar          │\n",
       "├────────────────┼────────────────────┼────────────┼────────────┼────────────────┼───────────────────┼──────────────┼────────────────┼─────────────────────────┼────────────────────┼────────────────────┼─────────────────┼─────────────┼────────────────┼──────────────┼────────────────┼─────────────────────┼──────────────────┼───────────────────────────────────┼─────────────────────┼─────────────┼──────────────┼──────────────────────┼────────────────────────┼──────────────────────┼────────────────────┼───────────────┼──────────────────────┼──────────────┼──────────────┼────────────────┼───────────────────────────────────┼───────────────────┼──────────────────────────┤\n",
       "│     9010912681 │ CA                 │ PAS        │ 2022-10-11 │             17 │ SUBN              │ FORD         │ T              │                20220788 │                 50 │                 50 │              50 │      365910 │ T201           │ D            │ 0825A          │ NULL                │ BX               │ O                                 │                   0 │         408 │ C4           │ NULL                 │ SCHOOL                 │ 0700A                │ 0400P              │ BLACK         │                 NULL │            0 │ NULL         │              0 │ NULL                              │ NULL              │ NULL                     │\n",
       "│     4858762841 │ NY                 │ PAS        │ 2023-08-21 │             36 │ 4DSD              │ HONDA        │ V              │                       0 │               NULL │                  0 │               0 │           0 │ NULL           │ NULL         │ 1036A          │ NULL                │ BK               │ NULL                              │                   0 │        1180 │ B            │ true                 │ NULL                   │ NULL                 │ NULL               │ GY            │                 NULL │         2003 │ NULL         │              0 │ NULL                              │ NULL              │ NULL                     │\n",
       "│     4854645684 │ FL                 │ PAS        │ 2023-07-26 │             36 │ UT                │ BMW          │ V              │                       0 │               NULL │                  0 │               0 │           0 │ NULL           │ NULL         │ 0126P          │ NULL                │ QN               │ NULL                              │                   0 │        1180 │ B            │ true                 │ NULL                   │ NULL                 │ NULL               │ WHI           │                 NULL │         2022 │ NULL         │              0 │ NULL                              │ NULL              │ NULL                     │\n",
       "│     9044582707 │ NY                 │ PAS        │ 2023-04-10 │             21 │ SUBN              │ SUBAR        │ T              │                20231217 │                 79 │                 79 │              79 │      370326 │ T301           │ H            │ 0924A          │ NULL                │ K                │ F                                 │                   0 │         408 │ D1           │ NULL                 │  Y  Y                  │ 0900A                │ 1030A              │ GY            │                 NULL │         2017 │ NULL         │              0 │ NULL                              │ NULL              │ NULL                     │\n",
       "│     9041503330 │ NY                 │ PAS        │ 2023-03-21 │             21 │ 4DSD              │ CHEVR        │ T              │                20250320 │                 26 │                 26 │              26 │      373097 │ T103           │ C            │ 1155A          │ NULL                │ NY               │ O                                 │                   0 │         408 │ D1           │ NULL                 │   Y  Y                 │ 1100A                │ 1230A              │ BK            │                 NULL │         2018 │ NULL         │              0 │ NULL                              │ NULL              │ NULL                     │\n",
       "│     8964996320 │ NY                 │ COM        │ 2023-06-12 │             21 │ VAN               │ CHEVR        │ T              │                88888888 │                 46 │                 46 │              46 │      374612 │ T201           │ E            │ 0923A          │ NULL                │ BX               │ I                                 │                   0 │         408 │ D1           │ NULL                 │  Y  Y                  │ 0800A                │ 0930A              │ TAN           │                 NULL │            0 │ NULL         │              0 │ NULL                              │ NULL              │ NULL                     │\n",
       "│     9019285804 │ NY                 │ SRF        │ 2022-11-20 │             40 │ SUBN              │ VOLKS        │ T              │                20240220 │                 20 │                 20 │              20 │      357701 │ T103           │ P            │ 0230P          │ NULL                │ NY               │ O                                 │                   0 │         408 │ E2           │ NULL                 │ YYYYYYY                │ NULL                 │ NULL               │ GY            │                 NULL │         2011 │ NULL         │              4 │ NULL                              │ NULL              │ NULL                     │\n",
       "│     9000744076 │ CT                 │ COM        │ 2022-07-19 │             69 │ SUBN              │ LINCO        │ T              │                88888888 │                  6 │                  6 │               6 │      373104 │ T102           │ I            │ 0349P          │ NULL                │ NY               │ F                                 │                   0 │         408 │ H1           │ NULL                 │  YYYYY                 │ 0700A                │ 0600P              │ BLACK         │                 NULL │            0 │ 102744       │              0 │ NULL                              │ NULL              │ NULL                     │\n",
       "│     4839205334 │ NY                 │ PAS        │ 2023-04-30 │             36 │ SUBN              │ TESLA        │ V              │                       0 │               NULL │                  0 │               0 │           0 │ NULL           │ NULL         │ 1154A          │ NULL                │ BK               │ NULL                              │                   0 │        1180 │ B            │ true                 │ NULL                   │ NULL                 │ NULL               │ RD            │                 NULL │         2021 │ NULL         │              0 │ NULL                              │ NULL              │ NULL                     │\n",
       "│     9006263692 │ NY                 │ PAS        │ 2022-09-20 │             16 │ SUBN              │ CHEVR        │ T              │                20240323 │                 84 │                 84 │              84 │      368636 │ T301           │ P            │ 0308P          │ NULL                │ K                │ F                                 │                   0 │         408 │ K2           │ NULL                 │  YYYYY                 │ 1000A                │ 0400P              │ BK            │                 NULL │         2017 │ NULL         │              0 │ NULL                              │ NULL              │ NULL                     │\n",
       "├────────────────┴────────────────────┴────────────┴────────────┴────────────────┴───────────────────┴──────────────┴────────────────┴─────────────────────────┴────────────────────┴────────────────────┴─────────────────┴─────────────┴────────────────┴──────────────┴────────────────┴─────────────────────┴──────────────────┴───────────────────────────────────┴─────────────────────┴─────────────┴──────────────┴──────────────────────┴────────────────────────┴──────────────────────┴────────────────────┴───────────────┴──────────────────────┴──────────────┴──────────────┴────────────────┴───────────────────────────────────┴───────────────────┴──────────────────────────┤\n",
       "│ 10 rows                                                                                                                                                                                                                                                                                                                                                                                                                                                                                                                                                                                                                                                                           34 columns │\n",
       "└──────────────────────────────────────────────────────────────────────────────────────────────────────────────────────────────────────────────────────────────────────────────────────────────────────────────────────────────────────────────────────────────────────────────────────────────────────────────────────────────────────────────────────────────────────────────────────────────────────────────────────────────────────────────────────────────────────────────────────────────────────────────────────────────────────────────────────────────────────────────────────────────────────────────────────────────────────────────────────────────────────────────────────────────┘"
      ]
     },
     "execution_count": 6,
     "metadata": {},
     "output_type": "execute_result"
    }
   ],
   "source": [
    "# Check some data\n",
    "conn.sql(\"select * from parking_violations_2023 limit 10\")\n",
    "#conn.sql(\"select * from parking_violation_codes limit 10\")"
   ]
  },
  {
   "cell_type": "code",
   "execution_count": 7,
   "metadata": {},
   "outputs": [],
   "source": [
    "# Database connection must be closed\n",
    "conn.close()"
   ]
  },
  {
   "cell_type": "code",
   "execution_count": 15,
   "metadata": {},
   "outputs": [
    {
     "data": {
      "text/plain": [
       "┌────────────────────────────────┐\n",
       "│              name              │\n",
       "│            varchar             │\n",
       "├────────────────────────────────┤\n",
       "│ bronze_parking_violation       │\n",
       "│ bronze_parking_violation_codes │\n",
       "│ first_model                    │\n",
       "│ gold_ticket_metrics            │\n",
       "│ gold_vehicle_metrics           │\n",
       "│ parking_violation_codes        │\n",
       "│ parking_violations_2023        │\n",
       "│ ref_model                      │\n",
       "│ silver_parking_violation       │\n",
       "│ silver_parking_violation_codes │\n",
       "│ silver_violation_tickets       │\n",
       "│ silver_violation_vehicles      │\n",
       "├────────────────────────────────┤\n",
       "│            12 rows             │\n",
       "└────────────────────────────────┘"
      ]
     },
     "metadata": {},
     "output_type": "display_data"
    }
   ],
   "source": [
    "import duckdb\n",
    "with duckdb.connect('data/parking_violations.db') as conn:\n",
    "    display(conn.sql(\"show tables\"))"
   ]
  },
  {
   "cell_type": "code",
   "execution_count": null,
   "metadata": {},
   "outputs": [
    {
     "data": {
      "text/plain": [
       "┌────────────────┬────────────┬────────────────┬────────────────────────────┬────────────────┬────────────────────┬────────────────────┬─────────────────┬─────────────┬────────────────┬──────────────┬────────────────┬──────────────────┬──────────────────────┬─────────┐\n",
       "│ summons_number │ issue_date │ violation_code │ is_manhattan_96th_st_below │ issuing_agency │ violation_location │ violation_precinct │ issuer_precinct │ issuer_code │ issuer_command │ issuer_squad │ violation_time │ violation_county │ violation_legal_code │ fee_usd │\n",
       "│     int64      │    date    │     int64      │          boolean           │    varchar     │       int64        │       int64        │      int64      │    int64    │    varchar     │   varchar    │    varchar     │     varchar      │       boolean        │  int64  │\n",
       "├────────────────┼────────────┼────────────────┼────────────────────────────┼────────────────┼────────────────────┼────────────────────┼─────────────────┼─────────────┼────────────────┼──────────────┼────────────────┼──────────────────┼──────────────────────┼─────────┤\n",
       "│     9010912681 │ 2022-10-11 │             17 │ false                      │ T              │                 50 │                 50 │              50 │      365910 │ T201           │ D            │ 0825A          │ BX               │ NULL                 │      95 │\n",
       "│     4858762841 │ 2023-08-21 │             36 │ false                      │ V              │               NULL │                  0 │               0 │           0 │ NULL           │ NULL         │ 1036A          │ BK               │ true                 │      50 │\n",
       "│     4854645684 │ 2023-07-26 │             36 │ false                      │ V              │               NULL │                  0 │               0 │           0 │ NULL           │ NULL         │ 0126P          │ QN               │ true                 │      50 │\n",
       "│     9044582707 │ 2023-04-10 │             21 │ false                      │ T              │                 79 │                 79 │              79 │      370326 │ T301           │ H            │ 0924A          │ K                │ NULL                 │      65 │\n",
       "│     9041503330 │ 2023-03-21 │             21 │ false                      │ T              │                 26 │                 26 │              26 │      373097 │ T103           │ C            │ 1155A          │ NY               │ NULL                 │      65 │\n",
       "│     8964996320 │ 2023-06-12 │             21 │ false                      │ T              │                 46 │                 46 │              46 │      374612 │ T201           │ E            │ 0923A          │ BX               │ NULL                 │      65 │\n",
       "│     9019285804 │ 2022-11-20 │             40 │ false                      │ T              │                 20 │                 20 │              20 │      357701 │ T103           │ P            │ 0230P          │ NY               │ NULL                 │     115 │\n",
       "│     9000744076 │ 2022-07-19 │             69 │ false                      │ T              │                  6 │                  6 │               6 │      373104 │ T102           │ I            │ 0349P          │ NY               │ NULL                 │      35 │\n",
       "│     4839205334 │ 2023-04-30 │             36 │ false                      │ V              │               NULL │                  0 │               0 │           0 │ NULL           │ NULL         │ 1154A          │ BK               │ true                 │      50 │\n",
       "│     8849295534 │ 2022-09-12 │             21 │ false                      │ T              │                109 │                109 │             109 │      363120 │ T401           │ E            │ 1133A          │ Q                │ NULL                 │      65 │\n",
       "├────────────────┴────────────┴────────────────┴────────────────────────────┴────────────────┴────────────────────┴────────────────────┴─────────────────┴─────────────┴────────────────┴──────────────┴────────────────┴──────────────────┴──────────────────────┴─────────┤\n",
       "│ 10 rows                                                                                                                                                                                                                                                        15 columns │\n",
       "└───────────────────────────────────────────────────────────────────────────────────────────────────────────────────────────────────────────────────────────────────────────────────────────────────────────────────────────────────────────────────────────────────────────┘"
      ]
     },
     "metadata": {},
     "output_type": "display_data"
    }
   ],
   "source": [
    "\n",
    "with duckdb.connect('data/parking_violations.db') as conn:\n",
    "    display(conn.sql(\"select * from silver_violation_tickets  limit 10;\"))"
   ]
  },
  {
   "cell_type": "code",
   "execution_count": 17,
   "metadata": {},
   "outputs": [
    {
     "data": {
      "text/plain": [
       "┌──────────────────────┬────────────┐\n",
       "│      table_name      │ table_type │\n",
       "│       varchar        │  varchar   │\n",
       "├──────────────────────┼────────────┤\n",
       "│ gold_vehicle_metrics │ BASE TABLE │\n",
       "└──────────────────────┴────────────┘"
      ]
     },
     "metadata": {},
     "output_type": "display_data"
    }
   ],
   "source": [
    "\n",
    "with duckdb.connect('data/parking_violations.db') as conn:\n",
    "    display(conn.sql(\"\"\"SELECT table_name, table_type \n",
    "                        FROM information_schema.tables \n",
    "                        WHERE table_name = 'gold_vehicle_metrics'\n",
    "                     \"\"\"))\n",
    "\n"
   ]
  },
  {
   "cell_type": "code",
   "execution_count": null,
   "metadata": {},
   "outputs": [],
   "source": []
  }
 ],
 "metadata": {
  "kernelspec": {
   "display_name": "Python 3",
   "language": "python",
   "name": "python3"
  },
  "language_info": {
   "codemirror_mode": {
    "name": "ipython",
    "version": 3
   },
   "file_extension": ".py",
   "mimetype": "text/x-python",
   "name": "python",
   "nbconvert_exporter": "python",
   "pygments_lexer": "ipython3",
   "version": "3.12.1"
  }
 },
 "nbformat": 4,
 "nbformat_minor": 2
}
